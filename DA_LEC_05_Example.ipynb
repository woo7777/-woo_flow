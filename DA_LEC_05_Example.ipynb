{
 "cells": [
  {
   "cell_type": "markdown",
   "metadata": {},
   "source": [
    "## 판다스(Pandas) 05 Page 2"
   ]
  },
  {
   "cell_type": "code",
   "execution_count": 1,
   "metadata": {
    "collapsed": false
   },
   "outputs": [
    {
     "data": {
      "text/html": [
       "<div>\n",
       "<style scoped>\n",
       "    .dataframe tbody tr th:only-of-type {\n",
       "        vertical-align: middle;\n",
       "    }\n",
       "\n",
       "    .dataframe tbody tr th {\n",
       "        vertical-align: top;\n",
       "    }\n",
       "\n",
       "    .dataframe thead th {\n",
       "        text-align: right;\n",
       "    }\n",
       "</style>\n",
       "<table border=\"1\" class=\"dataframe\">\n",
       "  <thead>\n",
       "    <tr style=\"text-align: right;\">\n",
       "      <th></th>\n",
       "      <th>Name</th>\n",
       "      <th>Country</th>\n",
       "      <th>Age</th>\n",
       "      <th>Job</th>\n",
       "    </tr>\n",
       "  </thead>\n",
       "  <tbody>\n",
       "    <tr>\n",
       "      <th>0</th>\n",
       "      <td>John</td>\n",
       "      <td>USA</td>\n",
       "      <td>31</td>\n",
       "      <td>Student</td>\n",
       "    </tr>\n",
       "    <tr>\n",
       "      <th>1</th>\n",
       "      <td>Sabre</td>\n",
       "      <td>France</td>\n",
       "      <td>33</td>\n",
       "      <td>Lawyer</td>\n",
       "    </tr>\n",
       "    <tr>\n",
       "      <th>2</th>\n",
       "      <td>Kim</td>\n",
       "      <td>Korea</td>\n",
       "      <td>28</td>\n",
       "      <td>Chef</td>\n",
       "    </tr>\n",
       "  </tbody>\n",
       "</table>\n",
       "</div>"
      ],
      "text/plain": [
       "    Name Country  Age      Job\n",
       "0   John     USA   31  Student\n",
       "1  Sabre  France   33   Lawyer\n",
       "2    Kim   Korea   28     Chef"
      ]
     },
     "execution_count": 1,
     "metadata": {},
     "output_type": "execute_result"
    }
   ],
   "source": [
    "import pandas as pd\n",
    "\n",
    "persons_dict = { 'Name' : [ 'John', 'Sabre', 'Kim' ],\n",
    "                 'Country' : [ 'USA', 'France', 'Korea' ],\n",
    "                 'Age' : [ 31, 33, 28 ],\n",
    "                 'Job' : ['Student', 'Lawyer', 'Chef'] } \n",
    "\n",
    "df1 = pd.DataFrame(data = persons_dict, \n",
    "                   columns = [ 'Name', 'Country', 'Age', 'Job' ] ) \n",
    "\n",
    "df1"
   ]
  },
  {
   "cell_type": "code",
   "execution_count": 2,
   "metadata": {
    "collapsed": false
   },
   "outputs": [],
   "source": [
    "# 분리자(seperator)로서 comma, tab, space 지정하여 저장\n",
    "# 분리자 옵션을 생략하면 기본적으로 sep=',' 인식\n",
    "\n",
    "df1.to_csv('persons_01.csv', sep = ',')\n",
    "\n",
    "df1.to_csv('persons_01.tsv', sep = '\\t')\n",
    "\n",
    "df1.to_csv('persons_01.txt', sep = ' ') "
   ]
  },
  {
   "cell_type": "markdown",
   "metadata": {},
   "source": [
    "## 판다스(Pandas) 05  Page 3"
   ]
  },
  {
   "cell_type": "code",
   "execution_count": 3,
   "metadata": {
    "collapsed": false
   },
   "outputs": [
    {
     "data": {
      "text/html": [
       "<div>\n",
       "<style scoped>\n",
       "    .dataframe tbody tr th:only-of-type {\n",
       "        vertical-align: middle;\n",
       "    }\n",
       "\n",
       "    .dataframe tbody tr th {\n",
       "        vertical-align: top;\n",
       "    }\n",
       "\n",
       "    .dataframe thead th {\n",
       "        text-align: right;\n",
       "    }\n",
       "</style>\n",
       "<table border=\"1\" class=\"dataframe\">\n",
       "  <thead>\n",
       "    <tr style=\"text-align: right;\">\n",
       "      <th></th>\n",
       "      <th>Name</th>\n",
       "      <th>Country</th>\n",
       "      <th>Age</th>\n",
       "      <th>Job</th>\n",
       "    </tr>\n",
       "  </thead>\n",
       "  <tbody>\n",
       "    <tr>\n",
       "      <th>0</th>\n",
       "      <td>John</td>\n",
       "      <td>USA</td>\n",
       "      <td>31</td>\n",
       "      <td>Student</td>\n",
       "    </tr>\n",
       "    <tr>\n",
       "      <th>1</th>\n",
       "      <td>Sabre</td>\n",
       "      <td>France</td>\n",
       "      <td>33</td>\n",
       "      <td>Lawyer</td>\n",
       "    </tr>\n",
       "    <tr>\n",
       "      <th>2</th>\n",
       "      <td>Kim</td>\n",
       "      <td>Korea</td>\n",
       "      <td>28</td>\n",
       "      <td>Chef</td>\n",
       "    </tr>\n",
       "  </tbody>\n",
       "</table>\n",
       "</div>"
      ],
      "text/plain": [
       "    Name Country  Age      Job\n",
       "0   John     USA   31  Student\n",
       "1  Sabre  France   33   Lawyer\n",
       "2    Kim   Korea   28     Chef"
      ]
     },
     "execution_count": 3,
     "metadata": {},
     "output_type": "execute_result"
    }
   ],
   "source": [
    "import pandas as pd\n",
    "\n",
    "persons_dict = { 'Name' : [ 'John', 'Sabre', 'Kim' ],\n",
    "                 'Country' : [ 'USA', 'France', 'Korea' ],\n",
    "                 'Age' : [ 31, 33, 28 ],\n",
    "                 'Job' : ['Student', 'Lawyer', 'Chef'] } \n",
    "\n",
    "df1 = pd.DataFrame(data = persons_dict, \n",
    "                   columns = [ 'Name', 'Country', 'Age', 'Job' ] ) \n",
    "\n",
    "df1"
   ]
  },
  {
   "cell_type": "code",
   "execution_count": 5,
   "metadata": {
    "collapsed": false
   },
   "outputs": [],
   "source": [
    "# 데이터프레임을 엑셀의 xls 형식으로 저장\n",
    "import xlwt\n",
    "\n",
    "df1.to_excel('persons_03.xls') \n",
    "\n",
    "\n",
    "# 데이터프레임을 엑셀의 xlsx 형식으로 저장\n",
    "import openpyxl\n",
    "\n",
    "df1.to_excel('persons_03.xlsx') "
   ]
  },
  {
   "cell_type": "markdown",
   "metadata": {},
   "source": [
    "## 판다스(Pandas) 05  Page 4"
   ]
  },
  {
   "cell_type": "code",
   "execution_count": 10,
   "metadata": {
    "collapsed": false
   },
   "outputs": [
    {
     "data": {
      "text/html": [
       "<div>\n",
       "<style scoped>\n",
       "    .dataframe tbody tr th:only-of-type {\n",
       "        vertical-align: middle;\n",
       "    }\n",
       "\n",
       "    .dataframe tbody tr th {\n",
       "        vertical-align: top;\n",
       "    }\n",
       "\n",
       "    .dataframe thead th {\n",
       "        text-align: right;\n",
       "    }\n",
       "</style>\n",
       "<table border=\"1\" class=\"dataframe\">\n",
       "  <thead>\n",
       "    <tr style=\"text-align: right;\">\n",
       "      <th></th>\n",
       "      <th>Name</th>\n",
       "      <th>Country</th>\n",
       "      <th>Age</th>\n",
       "      <th>Job</th>\n",
       "    </tr>\n",
       "  </thead>\n",
       "  <tbody>\n",
       "    <tr>\n",
       "      <th>0</th>\n",
       "      <td>John</td>\n",
       "      <td>USA</td>\n",
       "      <td>31</td>\n",
       "      <td>Student</td>\n",
       "    </tr>\n",
       "    <tr>\n",
       "      <th>1</th>\n",
       "      <td>Sabre</td>\n",
       "      <td>France</td>\n",
       "      <td>33</td>\n",
       "      <td>Lawyer</td>\n",
       "    </tr>\n",
       "    <tr>\n",
       "      <th>2</th>\n",
       "      <td>Kim</td>\n",
       "      <td>Korea</td>\n",
       "      <td>28</td>\n",
       "      <td>Chef</td>\n",
       "    </tr>\n",
       "  </tbody>\n",
       "</table>\n",
       "</div>"
      ],
      "text/plain": [
       "    Name Country  Age      Job\n",
       "0   John     USA   31  Student\n",
       "1  Sabre  France   33   Lawyer\n",
       "2    Kim   Korea   28     Chef"
      ]
     },
     "execution_count": 10,
     "metadata": {},
     "output_type": "execute_result"
    }
   ],
   "source": [
    "import pandas as pd\n",
    "\n",
    "persons_dict = { 'Name' : [ 'John', 'Sabre', 'Kim' ],\n",
    "                 'Country' : [ 'USA', 'France', 'Korea' ],\n",
    "                 'Age' : [ 31, 33, 28 ],\n",
    "                 'Job' : ['Student', 'Lawyer', 'Chef'] } \n",
    "\n",
    "df1 = pd.DataFrame(data = persons_dict, \n",
    "                   columns = [ 'Name', 'Country', 'Age', 'Job' ] ) \n",
    "\n",
    "df1"
   ]
  },
  {
   "cell_type": "code",
   "execution_count": 11,
   "metadata": {
    "collapsed": true
   },
   "outputs": [],
   "source": [
    "df1.to_json('persons_04.json') "
   ]
  },
  {
   "cell_type": "code",
   "execution_count": null,
   "metadata": {
    "collapsed": true
   },
   "outputs": [],
   "source": []
  }
 ],
 "metadata": {
  "anaconda-cloud": {},
  "kernelspec": {
   "display_name": "Python [default]",
   "language": "python",
   "name": "python3"
  },
  "language_info": {
   "codemirror_mode": {
    "name": "ipython",
    "version": 3
   },
   "file_extension": ".py",
   "mimetype": "text/x-python",
   "name": "python",
   "nbconvert_exporter": "python",
   "pygments_lexer": "ipython3",
   "version": "3.5.2"
  }
 },
 "nbformat": 4,
 "nbformat_minor": 1
}
